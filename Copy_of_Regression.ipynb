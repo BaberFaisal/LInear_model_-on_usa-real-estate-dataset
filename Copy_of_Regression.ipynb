{
  "metadata": {
    "kernelspec": {
      "language": "python",
      "display_name": "Python 3",
      "name": "python3"
    },
    "language_info": {
      "name": "python",
      "version": "3.10.13",
      "mimetype": "text/x-python",
      "codemirror_mode": {
        "name": "ipython",
        "version": 3
      },
      "pygments_lexer": "ipython3",
      "nbconvert_exporter": "python",
      "file_extension": ".py"
    },
    "kaggle": {
      "accelerator": "none",
      "dataSources": [
        {
          "sourceId": 7981839,
          "sourceType": "datasetVersion",
          "datasetId": 3202774
        }
      ],
      "dockerImageVersionId": 30732,
      "isInternetEnabled": false,
      "language": "python",
      "sourceType": "notebook",
      "isGpuEnabled": false
    },
    "colab": {
      "provenance": [],
      "include_colab_link": true
    }
  },
  "nbformat_minor": 0,
  "nbformat": 4,
  "cells": [
    {
      "cell_type": "markdown",
      "metadata": {
        "id": "view-in-github",
        "colab_type": "text"
      },
      "source": [
        "<a href=\"https://colab.research.google.com/github/BaberFaisal/LInear_model_-on_usa-real-estate-dataset/blob/main/Copy_of_Regression.ipynb\" target=\"_parent\"><img src=\"https://colab.research.google.com/assets/colab-badge.svg\" alt=\"Open In Colab\"/></a>"
      ]
    },
    {
      "cell_type": "markdown",
      "source": [
        "# Prepare Data\n"
      ],
      "metadata": {
        "id": "014Bpyrp9wPM"
      }
    },
    {
      "cell_type": "code",
      "source": [
        "import matplotlib.pyplot as plt\n",
        "import pandas as pd\n",
        "import numpy as np\n",
        "from sklearn.linear_model import LinearRegression\n",
        "from sklearn.metrics import mean_absolute_error\n",
        "from sklearn.utils.validation import check_is_fitted"
      ],
      "metadata": {
        "execution": {
          "iopub.status.busy": "2024-07-24T19:12:29.797875Z",
          "iopub.execute_input": "2024-07-24T19:12:29.798341Z",
          "iopub.status.idle": "2024-07-24T19:12:29.80502Z",
          "shell.execute_reply.started": "2024-07-24T19:12:29.798308Z",
          "shell.execute_reply": "2024-07-24T19:12:29.803648Z"
        },
        "trusted": true,
        "id": "Q8XTN7f49wPP"
      },
      "outputs": [],
      "execution_count": null
    },
    {
      "cell_type": "code",
      "source": [
        "df = pd.read_csv(\"/kaggle/input/usa-real-estate-dataset/realtor-data.zip.csv\")\n",
        "print(\"df shape:\", df.shape)\n",
        "df.head()"
      ],
      "metadata": {
        "_kg_hide-input": true,
        "execution": {
          "iopub.status.busy": "2024-07-24T19:13:11.167631Z",
          "iopub.execute_input": "2024-07-24T19:13:11.168102Z",
          "iopub.status.idle": "2024-07-24T19:13:14.659118Z",
          "shell.execute_reply.started": "2024-07-24T19:13:11.168069Z",
          "shell.execute_reply": "2024-07-24T19:13:14.65802Z"
        },
        "trusted": true,
        "id": "TwJOvd1m9wPQ",
        "outputId": "4d15055e-0098-4660-bc8e-5cf2c4909c85"
      },
      "outputs": [
        {
          "name": "stdout",
          "text": "df shape: (2226382, 12)\n",
          "output_type": "stream"
        },
        {
          "execution_count": 78,
          "output_type": "execute_result",
          "data": {
            "text/plain": "   brokered_by    status     price  bed  bath  acre_lot     street  \\\n0     103378.0  for_sale  105000.0  3.0   2.0      0.12  1962661.0   \n1      52707.0  for_sale   80000.0  4.0   2.0      0.08  1902874.0   \n2     103379.0  for_sale   67000.0  2.0   1.0      0.15  1404990.0   \n3      31239.0  for_sale  145000.0  4.0   2.0      0.10  1947675.0   \n4      34632.0  for_sale   65000.0  6.0   2.0      0.05   331151.0   \n\n         city        state  zip_code  house_size prev_sold_date  \n0    Adjuntas  Puerto Rico     601.0       920.0            NaN  \n1    Adjuntas  Puerto Rico     601.0      1527.0            NaN  \n2  Juana Diaz  Puerto Rico     795.0       748.0            NaN  \n3       Ponce  Puerto Rico     731.0      1800.0            NaN  \n4    Mayaguez  Puerto Rico     680.0         NaN            NaN  ",
            "text/html": "<div>\n<style scoped>\n    .dataframe tbody tr th:only-of-type {\n        vertical-align: middle;\n    }\n\n    .dataframe tbody tr th {\n        vertical-align: top;\n    }\n\n    .dataframe thead th {\n        text-align: right;\n    }\n</style>\n<table border=\"1\" class=\"dataframe\">\n  <thead>\n    <tr style=\"text-align: right;\">\n      <th></th>\n      <th>brokered_by</th>\n      <th>status</th>\n      <th>price</th>\n      <th>bed</th>\n      <th>bath</th>\n      <th>acre_lot</th>\n      <th>street</th>\n      <th>city</th>\n      <th>state</th>\n      <th>zip_code</th>\n      <th>house_size</th>\n      <th>prev_sold_date</th>\n    </tr>\n  </thead>\n  <tbody>\n    <tr>\n      <th>0</th>\n      <td>103378.0</td>\n      <td>for_sale</td>\n      <td>105000.0</td>\n      <td>3.0</td>\n      <td>2.0</td>\n      <td>0.12</td>\n      <td>1962661.0</td>\n      <td>Adjuntas</td>\n      <td>Puerto Rico</td>\n      <td>601.0</td>\n      <td>920.0</td>\n      <td>NaN</td>\n    </tr>\n    <tr>\n      <th>1</th>\n      <td>52707.0</td>\n      <td>for_sale</td>\n      <td>80000.0</td>\n      <td>4.0</td>\n      <td>2.0</td>\n      <td>0.08</td>\n      <td>1902874.0</td>\n      <td>Adjuntas</td>\n      <td>Puerto Rico</td>\n      <td>601.0</td>\n      <td>1527.0</td>\n      <td>NaN</td>\n    </tr>\n    <tr>\n      <th>2</th>\n      <td>103379.0</td>\n      <td>for_sale</td>\n      <td>67000.0</td>\n      <td>2.0</td>\n      <td>1.0</td>\n      <td>0.15</td>\n      <td>1404990.0</td>\n      <td>Juana Diaz</td>\n      <td>Puerto Rico</td>\n      <td>795.0</td>\n      <td>748.0</td>\n      <td>NaN</td>\n    </tr>\n    <tr>\n      <th>3</th>\n      <td>31239.0</td>\n      <td>for_sale</td>\n      <td>145000.0</td>\n      <td>4.0</td>\n      <td>2.0</td>\n      <td>0.10</td>\n      <td>1947675.0</td>\n      <td>Ponce</td>\n      <td>Puerto Rico</td>\n      <td>731.0</td>\n      <td>1800.0</td>\n      <td>NaN</td>\n    </tr>\n    <tr>\n      <th>4</th>\n      <td>34632.0</td>\n      <td>for_sale</td>\n      <td>65000.0</td>\n      <td>6.0</td>\n      <td>2.0</td>\n      <td>0.05</td>\n      <td>331151.0</td>\n      <td>Mayaguez</td>\n      <td>Puerto Rico</td>\n      <td>680.0</td>\n      <td>NaN</td>\n      <td>NaN</td>\n    </tr>\n  </tbody>\n</table>\n</div>"
          },
          "metadata": {}
        }
      ],
      "execution_count": null
    },
    {
      "cell_type": "code",
      "source": [
        "mask_ba = df[\"city\"].str.contains(\"Aguada\")\n",
        "mask_price = df[\"price\"] < 900_000\n",
        "\n",
        "df  = df[mask_ba & mask_price]\n"
      ],
      "metadata": {
        "execution": {
          "iopub.status.busy": "2024-07-24T19:13:14.661568Z",
          "iopub.execute_input": "2024-07-24T19:13:14.662144Z",
          "iopub.status.idle": "2024-07-24T19:13:15.804304Z",
          "shell.execute_reply.started": "2024-07-24T19:13:14.662101Z",
          "shell.execute_reply": "2024-07-24T19:13:15.802677Z"
        },
        "trusted": true,
        "id": "50Zn5N3G9wPR"
      },
      "outputs": [],
      "execution_count": null
    },
    {
      "cell_type": "code",
      "source": [
        "df.describe()[\"acre_lot\"]"
      ],
      "metadata": {
        "execution": {
          "iopub.status.busy": "2024-07-24T19:13:15.805699Z",
          "iopub.execute_input": "2024-07-24T19:13:15.806082Z",
          "iopub.status.idle": "2024-07-24T19:13:15.835054Z",
          "shell.execute_reply.started": "2024-07-24T19:13:15.806051Z",
          "shell.execute_reply": "2024-07-24T19:13:15.833969Z"
        },
        "trusted": true,
        "id": "uVc5PlMv9wPR",
        "outputId": "cdc8bf3c-044b-489f-a25c-55d75a28a3fc"
      },
      "outputs": [
        {
          "execution_count": 80,
          "output_type": "execute_result",
          "data": {
            "text/plain": "count    39.000000\nmean      2.355128\nstd       6.368477\nmin       0.070000\n25%       0.210000\n50%       0.280000\n75%       0.780000\nmax      33.350000\nName: acre_lot, dtype: float64"
          },
          "metadata": {}
        }
      ],
      "execution_count": null
    },
    {
      "cell_type": "markdown",
      "source": [
        "## Explore"
      ],
      "metadata": {
        "id": "eM3tFSHt9wPS"
      }
    },
    {
      "cell_type": "code",
      "source": [
        "plt.hist(df[\"acre_lot\"]);  # Adjust bins as needed\n",
        "plt.xlabel(\"Area\")\n",
        "plt.ylabel(\"Frequency\")\n",
        "plt.title(\"Distribution of Apartment sizes\")\n",
        "plt.show()"
      ],
      "metadata": {
        "execution": {
          "iopub.status.busy": "2024-07-24T19:13:15.837075Z",
          "iopub.execute_input": "2024-07-24T19:13:15.837421Z",
          "iopub.status.idle": "2024-07-24T19:13:16.084251Z",
          "shell.execute_reply.started": "2024-07-24T19:13:15.837391Z",
          "shell.execute_reply": "2024-07-24T19:13:16.08299Z"
        },
        "trusted": true,
        "id": "-FPbhu0-9wPS",
        "outputId": "fdef1aaa-bf47-44c6-a713-23cdf7fce105"
      },
      "outputs": [
        {
          "output_type": "display_data",
          "data": {
            "text/plain": "<Figure size 640x480 with 1 Axes>",
            "image/png": "[encoded data removed]"
          },
          "metadata": {}
        }
      ],
      "execution_count": null
    },
    {
      "cell_type": "code",
      "source": [
        "low, high = df[\"acre_lot\"].quantile([0.1, 0.9])\n",
        "mask_area = df[\"acre_lot\"].between(low, high)\n",
        "df = df[mask_area]"
      ],
      "metadata": {
        "execution": {
          "iopub.status.busy": "2024-07-24T19:13:16.08554Z",
          "iopub.execute_input": "2024-07-24T19:13:16.085895Z",
          "iopub.status.idle": "2024-07-24T19:13:16.094746Z",
          "shell.execute_reply.started": "2024-07-24T19:13:16.085867Z",
          "shell.execute_reply": "2024-07-24T19:13:16.093733Z"
        },
        "trusted": true,
        "id": "tNFUQm459wPT"
      },
      "outputs": [],
      "execution_count": null
    },
    {
      "cell_type": "markdown",
      "source": [
        "### To removes observations that are outliers in the \"house_size\" column. Specifically, all observations should fall between the 0.1 and 0.9 quantiles for \"house_size\""
      ],
      "metadata": {
        "id": "2Z2yzS3d9wPT"
      }
    },
    {
      "cell_type": "code",
      "source": [
        "upper_limit = 0.6  # Set an appropriate upper limit based on your dataset\n",
        "filtered_df = df[df[\"acre_lot\"] < upper_limit]\n",
        "plt.scatter(x= df[\"acre_lot\"], y=df[\"price\"])\n",
        "plt.xlabel(\"Area [sq meters]\")\n",
        "plt.ylabel(\"price[USD]\")\n",
        "plt.title(\"USA: Price vs. Area\");"
      ],
      "metadata": {
        "execution": {
          "iopub.status.busy": "2024-07-24T19:13:16.595622Z",
          "iopub.execute_input": "2024-07-24T19:13:16.596354Z",
          "iopub.status.idle": "2024-07-24T19:13:16.86831Z",
          "shell.execute_reply.started": "2024-07-24T19:13:16.596318Z",
          "shell.execute_reply": "2024-07-24T19:13:16.867178Z"
        },
        "trusted": true,
        "id": "IseA4APu9wPU",
        "outputId": "df113fb7-3324-41df-f55e-c27737b0be52"
      },
      "outputs": [
        {
          "output_type": "display_data",
          "data": {
            "text/plain": "<Figure size 640x480 with 1 Axes>",
            "image/png": "[encoded data removed]"
          },
          "metadata": {}
        }
      ],
      "execution_count": null
    },
    {
      "cell_type": "markdown",
      "source": [
        "## Split"
      ],
      "metadata": {
        "id": "I2gMoM259wPV"
      }
    },
    {
      "cell_type": "code",
      "source": [
        "features = [\"acre_lot\"]\n",
        "X_train = df[features]\n",
        "X_train.shape"
      ],
      "metadata": {
        "execution": {
          "iopub.status.busy": "2024-07-24T19:13:17.825654Z",
          "iopub.execute_input": "2024-07-24T19:13:17.826593Z",
          "iopub.status.idle": "2024-07-24T19:13:17.834083Z",
          "shell.execute_reply.started": "2024-07-24T19:13:17.826548Z",
          "shell.execute_reply": "2024-07-24T19:13:17.833006Z"
        },
        "trusted": true,
        "id": "6t_GLIRW9wPV",
        "outputId": "7f88e0f7-76ae-4a7c-e870-21b3058cc175"
      },
      "outputs": [
        {
          "execution_count": 84,
          "output_type": "execute_result",
          "data": {
            "text/plain": "(31, 1)"
          },
          "metadata": {}
        }
      ],
      "execution_count": null
    },
    {
      "cell_type": "code",
      "source": [
        "target = \"price\"\n",
        "y_train = df[target]\n",
        "y_train.shape"
      ],
      "metadata": {
        "execution": {
          "iopub.status.busy": "2024-07-24T19:13:18.50964Z",
          "iopub.execute_input": "2024-07-24T19:13:18.510869Z",
          "iopub.status.idle": "2024-07-24T19:13:18.519107Z",
          "shell.execute_reply.started": "2024-07-24T19:13:18.510768Z",
          "shell.execute_reply": "2024-07-24T19:13:18.517986Z"
        },
        "trusted": true,
        "id": "bPUrJrPp9wPW",
        "outputId": "5ccb6bbd-08a8-446f-dad6-ca34619acd87"
      },
      "outputs": [
        {
          "execution_count": 85,
          "output_type": "execute_result",
          "data": {
            "text/plain": "(31,)"
          },
          "metadata": {}
        }
      ],
      "execution_count": null
    },
    {
      "cell_type": "markdown",
      "source": [
        "# Build Model"
      ],
      "metadata": {
        "id": "PtP1Lk6L9wPW"
      }
    },
    {
      "cell_type": "code",
      "source": [
        "y_mean =y_train.mean()\n",
        "y_train"
      ],
      "metadata": {
        "execution": {
          "iopub.status.busy": "2024-07-24T19:13:19.314064Z",
          "iopub.execute_input": "2024-07-24T19:13:19.314762Z",
          "iopub.status.idle": "2024-07-24T19:13:19.324716Z",
          "shell.execute_reply.started": "2024-07-24T19:13:19.314717Z",
          "shell.execute_reply": "2024-07-24T19:13:19.323038Z"
        },
        "trusted": true,
        "id": "jrP1Fydq9wPW",
        "outputId": "1fff340c-8d67-44fd-9e04-afd71da2213c"
      },
      "outputs": [
        {
          "execution_count": 86,
          "output_type": "execute_result",
          "data": {
            "text/plain": "44      95000.0\n46     139500.0\n47     149900.0\n48     180000.0\n49     249000.0\n50     252000.0\n53     500000.0\n54     339000.0\n57     389000.0\n58     575000.0\n59      35000.0\n60      58000.0\n62      47000.0\n64     375000.0\n65      50000.0\n67      39500.0\n70     600000.0\n71     649000.0\n73     150000.0\n74      74000.0\n75      65500.0\n76      67500.0\n77      74000.0\n78     130000.0\n79      95000.0\n81     130000.0\n82      94770.0\n83     150000.0\n84     165000.0\n98     225000.0\n569     49000.0\nName: price, dtype: float64"
          },
          "metadata": {}
        }
      ],
      "execution_count": null
    },
    {
      "cell_type": "code",
      "source": [
        "y_pred_baseline = [y_mean]*len(y_train)\n",
        "len(y_pred_baseline) == len(y_train)"
      ],
      "metadata": {
        "execution": {
          "iopub.status.busy": "2024-07-24T19:13:19.83235Z",
          "iopub.execute_input": "2024-07-24T19:13:19.832739Z",
          "iopub.status.idle": "2024-07-24T19:13:19.84005Z",
          "shell.execute_reply.started": "2024-07-24T19:13:19.832709Z",
          "shell.execute_reply": "2024-07-24T19:13:19.838919Z"
        },
        "trusted": true,
        "id": "xzsioW5p9wPW",
        "outputId": "6ac24fdf-caf0-4b12-e4fa-4d27b6af75e3"
      },
      "outputs": [
        {
          "execution_count": 87,
          "output_type": "execute_result",
          "data": {
            "text/plain": "True"
          },
          "metadata": {}
        }
      ],
      "execution_count": null
    },
    {
      "cell_type": "code",
      "source": [
        "plt.plot(X_train.values, y_pred_baseline, color=\"orange\", label= \"Baseline Model\")\n",
        "plt.scatter(X_train, y_train)\n",
        "plt.xlabel(\"Area [sq meters]\")\n",
        "plt.ylabel(\"Price [USD]\")\n",
        "plt.title(\"Buenos Aires: Price vs. Area\")\n",
        "plt.legend();"
      ],
      "metadata": {
        "execution": {
          "iopub.status.busy": "2024-07-24T19:13:20.28954Z",
          "iopub.execute_input": "2024-07-24T19:13:20.289936Z",
          "iopub.status.idle": "2024-07-24T19:13:20.588979Z",
          "shell.execute_reply.started": "2024-07-24T19:13:20.289904Z",
          "shell.execute_reply": "2024-07-24T19:13:20.587904Z"
        },
        "trusted": true,
        "id": "w6O-K87Z9wPX",
        "outputId": "dbb5b02a-eef7-4100-f3f8-1c04a4c8c8e2"
      },
      "outputs": [
        {
          "output_type": "display_data",
          "data": {
            "text/plain": "<Figure size 640x480 with 1 Axes>",
            "image/png": "[encoded data removed]"
          },
          "metadata": {}
        }
      ],
      "execution_count": null
    },
    {
      "cell_type": "code",
      "source": [
        "mae_baseline = mean_absolute_error(y_train, y_pred_baseline)\n",
        "\n",
        "print(\"Mean price\", round(y_mean, 2))\n",
        "print(\"Baseline MAE:\", round(mae_baseline, 2))\n"
      ],
      "metadata": {
        "execution": {
          "iopub.status.busy": "2024-07-24T19:13:20.721305Z",
          "iopub.execute_input": "2024-07-24T19:13:20.721727Z",
          "iopub.status.idle": "2024-07-24T19:13:20.729293Z",
          "shell.execute_reply.started": "2024-07-24T19:13:20.721694Z",
          "shell.execute_reply": "2024-07-24T19:13:20.727946Z"
        },
        "trusted": true,
        "id": "oJ9AwMr_9wPX",
        "outputId": "35eb51a3-b504-4416-ba31-2ff83561e528"
      },
      "outputs": [
        {
          "name": "stdout",
          "text": "Mean price 199731.29\nBaseline MAE: 139076.59\n",
          "output_type": "stream"
        }
      ],
      "execution_count": null
    },
    {
      "cell_type": "markdown",
      "source": [
        "## Iterate"
      ],
      "metadata": {
        "id": "iHAin12C9wPZ"
      }
    },
    {
      "cell_type": "code",
      "source": [
        "model = LinearRegression()"
      ],
      "metadata": {
        "execution": {
          "iopub.status.busy": "2024-07-24T19:13:21.638064Z",
          "iopub.execute_input": "2024-07-24T19:13:21.638466Z",
          "iopub.status.idle": "2024-07-24T19:13:21.644197Z",
          "shell.execute_reply.started": "2024-07-24T19:13:21.638435Z",
          "shell.execute_reply": "2024-07-24T19:13:21.642711Z"
        },
        "trusted": true,
        "id": "rT0DOkEg9wPZ"
      },
      "outputs": [],
      "execution_count": null
    },
    {
      "cell_type": "code",
      "source": [
        "model.fit(X_train, y_train)"
      ],
      "metadata": {
        "execution": {
          "iopub.status.busy": "2024-07-24T19:13:22.031832Z",
          "iopub.execute_input": "2024-07-24T19:13:22.032202Z",
          "iopub.status.idle": "2024-07-24T19:13:22.043065Z",
          "shell.execute_reply.started": "2024-07-24T19:13:22.032175Z",
          "shell.execute_reply": "2024-07-24T19:13:22.041719Z"
        },
        "trusted": true,
        "id": "jAtHhvcg9wPZ",
        "outputId": "85f6fd2a-0831-40bf-8314-9aded5a4e4c9"
      },
      "outputs": [
        {
          "execution_count": 91,
          "output_type": "execute_result",
          "data": {
            "text/plain": "LinearRegression()",
            "text/html": "<style>#sk-container-id-4 {color: black;background-color: white;}#sk-container-id-4 pre{padding: 0;}#sk-container-id-4 div.sk-toggleable {background-color: white;}#sk-container-id-4 label.sk-toggleable__label {cursor: pointer;display: block;width: 100%;margin-bottom: 0;padding: 0.3em;box-sizing: border-box;text-align: center;}#sk-container-id-4 label.sk-toggleable__label-arrow:before {content: \"▸\";float: left;margin-right: 0.25em;color: #696969;}#sk-container-id-4 label.sk-toggleable__label-arrow:hover:before {color: black;}#sk-container-id-4 div.sk-estimator:hover label.sk-toggleable__label-arrow:before {color: black;}#sk-container-id-4 div.sk-toggleable__content {max-height: 0;max-width: 0;overflow: hidden;text-align: left;background-color: #f0f8ff;}#sk-container-id-4 div.sk-toggleable__content pre {margin: 0.2em;color: black;border-radius: 0.25em;background-color: #f0f8ff;}#sk-container-id-4 input.sk-toggleable__control:checked~div.sk-toggleable__content {max-height: 200px;max-width: 100%;overflow: auto;}#sk-container-id-4 input.sk-toggleable__control:checked~label.sk-toggleable__label-arrow:before {content: \"▾\";}#sk-container-id-4 div.sk-estimator input.sk-toggleable__control:checked~label.sk-toggleable__label {background-color: #d4ebff;}#sk-container-id-4 div.sk-label input.sk-toggleable__control:checked~label.sk-toggleable__label {background-color: #d4ebff;}#sk-container-id-4 input.sk-hidden--visually {border: 0;clip: rect(1px 1px 1px 1px);clip: rect(1px, 1px, 1px, 1px);height: 1px;margin: -1px;overflow: hidden;padding: 0;position: absolute;width: 1px;}#sk-container-id-4 div.sk-estimator {font-family: monospace;background-color: #f0f8ff;border: 1px dotted black;border-radius: 0.25em;box-sizing: border-box;margin-bottom: 0.5em;}#sk-container-id-4 div.sk-estimator:hover {background-color: #d4ebff;}#sk-container-id-4 div.sk-parallel-item::after {content: \"\";width: 100%;border-bottom: 1px solid gray;flex-grow: 1;}#sk-container-id-4 div.sk-label:hover label.sk-toggleable__label {background-color: #d4ebff;}#sk-container-id-4 div.sk-serial::before {content: \"\";position: absolute;border-left: 1px solid gray;box-sizing: border-box;top: 0;bottom: 0;left: 50%;z-index: 0;}#sk-container-id-4 div.sk-serial {display: flex;flex-direction: column;align-items: center;background-color: white;padding-right: 0.2em;padding-left: 0.2em;position: relative;}#sk-container-id-4 div.sk-item {position: relative;z-index: 1;}#sk-container-id-4 div.sk-parallel {display: flex;align-items: stretch;justify-content: center;background-color: white;position: relative;}#sk-container-id-4 div.sk-item::before, #sk-container-id-4 div.sk-parallel-item::before {content: \"\";position: absolute;border-left: 1px solid gray;box-sizing: border-box;top: 0;bottom: 0;left: 50%;z-index: -1;}#sk-container-id-4 div.sk-parallel-item {display: flex;flex-direction: column;z-index: 1;position: relative;background-color: white;}#sk-container-id-4 div.sk-parallel-item:first-child::after {align-self: flex-end;width: 50%;}#sk-container-id-4 div.sk-parallel-item:last-child::after {align-self: flex-start;width: 50%;}#sk-container-id-4 div.sk-parallel-item:only-child::after {width: 0;}#sk-container-id-4 div.sk-dashed-wrapped {border: 1px dashed gray;margin: 0 0.4em 0.5em 0.4em;box-sizing: border-box;padding-bottom: 0.4em;background-color: white;}#sk-container-id-4 div.sk-label label {font-family: monospace;font-weight: bold;display: inline-block;line-height: 1.2em;}#sk-container-id-4 div.sk-label-container {text-align: center;}#sk-container-id-4 div.sk-container {/* jupyter's `normalize.less` sets `[hidden] { display: none; }` but bootstrap.min.css set `[hidden] { display: none !important; }` so we also need the `!important` here to be able to override the default hidden behavior on the sphinx rendered scikit-learn.org. See: https://github.com/scikit-learn/scikit-learn/issues/21755 */display: inline-block !important;position: relative;}#sk-container-id-4 div.sk-text-repr-fallback {display: none;}</style><div id=\"sk-container-id-4\" class=\"sk-top-container\"><div class=\"sk-text-repr-fallback\"><pre>LinearRegression()</pre><b>In a Jupyter environment, please rerun this cell to show the HTML representation or trust the notebook. <br />On GitHub, the HTML representation is unable to render, please try loading this page with nbviewer.org.</b></div><div class=\"sk-container\" hidden><div class=\"sk-item\"><div class=\"sk-estimator sk-toggleable\"><input class=\"sk-toggleable__control sk-hidden--visually\" id=\"sk-estimator-id-4\" type=\"checkbox\" checked><label for=\"sk-estimator-id-4\" class=\"sk-toggleable__label sk-toggleable__label-arrow\">LinearRegression</label><div class=\"sk-toggleable__content\"><pre>LinearRegression()</pre></div></div></div></div></div>"
          },
          "metadata": {}
        }
      ],
      "execution_count": null
    },
    {
      "cell_type": "markdown",
      "source": [
        "## Evaluate"
      ],
      "metadata": {
        "id": "2TmNtF6T9wPZ"
      }
    },
    {
      "cell_type": "code",
      "source": [
        "y_pred_training = model.predict(X_train)\n",
        "y_pred_training[:5]"
      ],
      "metadata": {
        "execution": {
          "iopub.status.busy": "2024-07-24T19:13:22.799022Z",
          "iopub.execute_input": "2024-07-24T19:13:22.799406Z",
          "iopub.status.idle": "2024-07-24T19:13:22.808218Z",
          "shell.execute_reply.started": "2024-07-24T19:13:22.799375Z",
          "shell.execute_reply": "2024-07-24T19:13:22.80707Z"
        },
        "trusted": true,
        "id": "9MtUtK2E9wPa",
        "outputId": "beea308b-f217-4b78-9333-239945c2c7cb"
      },
      "outputs": [
        {
          "execution_count": 92,
          "output_type": "execute_result",
          "data": {
            "text/plain": "array([124394.54784096, 131775.83424087, 148014.66432066, 145062.1497607 ,\n       128823.31968091])"
          },
          "metadata": {}
        }
      ],
      "execution_count": null
    },
    {
      "cell_type": "code",
      "source": [
        "mae_training = mean_absolute_error(y_train, y_pred_training)\n",
        "print(\"Training MAE:\", round(mae_training, 2))"
      ],
      "metadata": {
        "execution": {
          "iopub.status.busy": "2024-07-24T19:13:23.25617Z",
          "iopub.execute_input": "2024-07-24T19:13:23.256567Z",
          "iopub.status.idle": "2024-07-24T19:13:23.263869Z",
          "shell.execute_reply.started": "2024-07-24T19:13:23.256534Z",
          "shell.execute_reply": "2024-07-24T19:13:23.262232Z"
        },
        "trusted": true,
        "id": "4SY-w-yh9wPa",
        "outputId": "ca68402a-cf70-460b-a04e-42a50a48d943"
      },
      "outputs": [
        {
          "name": "stdout",
          "text": "Training MAE: 101480.38\n",
          "output_type": "stream"
        }
      ],
      "execution_count": null
    },
    {
      "cell_type": "markdown",
      "source": [
        "# Communicate Results"
      ],
      "metadata": {
        "id": "m9W9c5gb9wPa"
      }
    },
    {
      "cell_type": "code",
      "source": [
        "intercept = round(model.intercept_,2)\n",
        "print(\"Model Intercept:\", intercept)\n",
        "assert any([isinstance(intercept, int), isinstance(intercept, float)])"
      ],
      "metadata": {
        "execution": {
          "iopub.status.busy": "2024-07-24T19:13:24.103495Z",
          "iopub.execute_input": "2024-07-24T19:13:24.103921Z",
          "iopub.status.idle": "2024-07-24T19:13:24.110233Z",
          "shell.execute_reply.started": "2024-07-24T19:13:24.103889Z",
          "shell.execute_reply": "2024-07-24T19:13:24.108912Z"
        },
        "trusted": true,
        "id": "Ol4OXiG_9wPa",
        "outputId": "fc84a92b-691b-4662-ca50-c6588445277c"
      },
      "outputs": [
        {
          "name": "stdout",
          "text": "Model Intercept: 109631.98\n",
          "output_type": "stream"
        }
      ],
      "execution_count": null
    },
    {
      "cell_type": "code",
      "source": [
        "coefficient = round(model.coef_[0],2)\n",
        "print('Model coefficient for \"surface_covered_in_m2\":', coefficient)\n",
        "assert any([isinstance(coefficient, int), isinstance(coefficient, float)])"
      ],
      "metadata": {
        "execution": {
          "iopub.status.busy": "2024-07-24T19:13:24.548907Z",
          "iopub.execute_input": "2024-07-24T19:13:24.54931Z",
          "iopub.status.idle": "2024-07-24T19:13:24.555915Z",
          "shell.execute_reply.started": "2024-07-24T19:13:24.54928Z",
          "shell.execute_reply": "2024-07-24T19:13:24.554461Z"
        },
        "trusted": true,
        "id": "HIFZZVkx9wPa",
        "outputId": "e4bfaea4-d685-4c91-dcc6-93c401c8607a"
      },
      "outputs": [
        {
          "name": "stdout",
          "text": "Model coefficient for \"surface_covered_in_m2\": 147625.73\n",
          "output_type": "stream"
        }
      ],
      "execution_count": null
    },
    {
      "cell_type": "code",
      "source": [
        "print(f\"apt_price = {intercept} + {coefficient}*surface_covered\")"
      ],
      "metadata": {
        "execution": {
          "iopub.status.busy": "2024-07-24T19:13:24.856683Z",
          "iopub.execute_input": "2024-07-24T19:13:24.857115Z",
          "iopub.status.idle": "2024-07-24T19:13:24.862423Z",
          "shell.execute_reply.started": "2024-07-24T19:13:24.857082Z",
          "shell.execute_reply": "2024-07-24T19:13:24.861321Z"
        },
        "trusted": true,
        "id": "ewrF7yAt9wPb",
        "outputId": "5f2acfc4-742f-4893-e134-c10003645079"
      },
      "outputs": [
        {
          "name": "stdout",
          "text": "apt_price = 109631.98 + 147625.73*surface_covered\n",
          "output_type": "stream"
        }
      ],
      "execution_count": null
    },
    {
      "cell_type": "code",
      "source": [
        "plt.plot(X_train.values,model.predict(X_train),color=\"magenta\", label = \"Linear Model\")\n",
        "plt.scatter(X_train, y_train)\n",
        "plt.xlabel(\"surface covered [sq meters]\")\n",
        "plt.ylabel(\"price [usd]\")\n",
        "plt.legend();"
      ],
      "metadata": {
        "execution": {
          "iopub.status.busy": "2024-07-24T19:13:25.258651Z",
          "iopub.execute_input": "2024-07-24T19:13:25.259047Z",
          "iopub.status.idle": "2024-07-24T19:13:25.510216Z",
          "shell.execute_reply.started": "2024-07-24T19:13:25.259016Z",
          "shell.execute_reply": "2024-07-24T19:13:25.508985Z"
        },
        "trusted": true,
        "id": "4_iybfUb9wPb",
        "outputId": "25d30a90-984c-4ba0-e584-6dfc49da0089"
      },
      "outputs": [
        {
          "output_type": "display_data",
          "data": {
            "text/plain": "<Figure size 640x480 with 1 Axes>",
            "image/png": "[encoded data removed]"
          },
          "metadata": {}
        }
      ],
      "execution_count": null
    },
    {
      "cell_type": "code",
      "source": [],
      "metadata": {
        "id": "d6pgtDVd9wPb"
      },
      "outputs": [],
      "execution_count": null
    },
    {
      "cell_type": "code",
      "source": [],
      "metadata": {
        "id": "zK-rokCL9wPb"
      },
      "outputs": [],
      "execution_count": null
    },
    {
      "cell_type": "code",
      "source": [],
      "metadata": {
        "id": "SDmIDSB39wPc"
      },
      "outputs": [],
      "execution_count": null
    }
  ]
}